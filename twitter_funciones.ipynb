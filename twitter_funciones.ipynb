{
  "nbformat": 4,
  "nbformat_minor": 0,
  "metadata": {
    "colab": {
      "name": "twitter_funciones.ipynb",
      "provenance": [],
      "collapsed_sections": [],
      "authorship_tag": "ABX9TyPzsCpCQb1/5xz/DCJoQ+T5",
      "include_colab_link": true
    },
    "kernelspec": {
      "name": "python3",
      "display_name": "Python 3"
    }
  },
  "cells": [
    {
      "cell_type": "markdown",
      "metadata": {
        "id": "view-in-github",
        "colab_type": "text"
      },
      "source": [
        "<a href=\"https://colab.research.google.com/github/ReallyStonedApe/proyecto_final_seminarioCC/blob/master/twitter_funciones.ipynb\" target=\"_parent\"><img src=\"https://colab.research.google.com/assets/colab-badge.svg\" alt=\"Open In Colab\"/></a>"
      ]
    },
    {
      "cell_type": "code",
      "metadata": {
        "id": "f8m_0LULxxrW",
        "colab_type": "code",
        "colab": {}
      },
      "source": [
        "import tweepy\n",
        "\n",
        "def openConnection():\n",
        "    auth= tweepy.OAuthHandler('aXoXtfzs0530PxnQbww55JlJk','QXoCUcYya7AbKrYkSavHOQ5c9wUokOSSzEeUxvlrT7P6zmOYoQ')\n",
        "    auth.set_access_token('108181358-GyyS4UlprHt6O9KgUr8JhicAmF8kv72AKyJNzul8','K1OrAKiYumo7HA9qNAZ88JSUrI4MnLwKSU8JOotK64MoU')\n",
        "    api= tweepy.API(auth, wait_on_rate_limit=True, wait_on_rate_limit_notify=True)\n",
        "    return api"
      ],
      "execution_count": 0,
      "outputs": []
    },
    {
      "cell_type": "code",
      "metadata": {
        "id": "yScvw2KuyE4K",
        "colab_type": "code",
        "colab": {}
      },
      "source": [
        "api=openConnection()"
      ],
      "execution_count": 0,
      "outputs": []
    },
    {
      "cell_type": "code",
      "metadata": {
        "id": "y3E2XvrIKMnB",
        "colab_type": "code",
        "outputId": "4342d206-14bb-43e6-9379-d229e42e5bd1",
        "colab": {
          "base_uri": "https://localhost:8080/",
          "height": 153
        }
      },
      "source": [
        "import multiprocessing as mp\n",
        "\n",
        "nodes=['lajornadaonline', 'el_universal_mx', 'reforma', 'proceso', 'milenio', 'eleconomista'] \n",
        "following=[]\n",
        "for node in nodes:\n",
        "  aux=api.friends_ids(node, count=5000)\n",
        "  for i in range(len(aux)):\n",
        "    try:\n",
        "      if (aux[i] not in following and len(api.get_user(aux[i]).followers_count)>100000 and api.get_user(aux[i]).protected==False):\n",
        "        following.append(api.get_user(aux[i]).screen_name.lower())\n",
        "    except:\n",
        "     pass    \n",
        "\n",
        "print(following)"
      ],
      "execution_count": 0,
      "outputs": [
        {
          "output_type": "stream",
          "text": [
            "Rate limit reached. Sleeping for: 606\n",
            "Rate limit reached. Sleeping for: 600\n",
            "Rate limit reached. Sleeping for: 603\n",
            "Rate limit reached. Sleeping for: 602\n",
            "Rate limit reached. Sleeping for: 600\n",
            "Rate limit reached. Sleeping for: 590\n",
            "Rate limit reached. Sleeping for: 603\n",
            "Rate limit reached. Sleeping for: 601\n"
          ],
          "name": "stderr"
        }
      ]
    },
    {
      "cell_type": "code",
      "metadata": {
        "id": "gA3yAsXbxdoC",
        "colab_type": "code",
        "colab": {}
      },
      "source": [
        "from functools import partial\n",
        "def createTargetFile(following):\n",
        "  #f=open('following', 'x')\n",
        "  fl=open('following', 'w')\n",
        "  for i in range(len(following)):\n",
        "    fl.write('%s\\n' % following[i])\n",
        "  fl.close()\n",
        "p1=mp.Pool()\n",
        "res1=p1.apply_async(createTargetFile,args=following)\n",
        "#createTargetFile(following)    "
      ],
      "execution_count": 0,
      "outputs": []
    },
    {
      "cell_type": "code",
      "metadata": {
        "id": "5JRBJGxRVOkp",
        "colab_type": "code",
        "colab": {}
      },
      "source": [
        "import multiprocessing as mp\n",
        "def get_followers():\n",
        "  following=[]\n",
        "  with open('following','r') as f:\n",
        "    aux=f.readlines()\n",
        "    for i in range(len(aux)):\n",
        "      following.append(aux[i].strip('\\n'))\n",
        "  f.close()\n",
        "  return following\n"
      ],
      "execution_count": 0,
      "outputs": []
    },
    {
      "cell_type": "code",
      "metadata": {
        "id": "vtt1wwb7ZpjR",
        "colab_type": "code",
        "colab": {}
      },
      "source": [
        "following=get_followers()"
      ],
      "execution_count": 0,
      "outputs": []
    },
    {
      "cell_type": "code",
      "metadata": {
        "id": "QmJG-WgVONXg",
        "colab_type": "code",
        "colab": {}
      },
      "source": [
        "import regex as re\n",
        "def trim_tweet(text):\n",
        "  words=[]\n",
        "  skipped_words=['de', 'la', 'que ', 'el', 'en', 'y', 'a', 'los', 'se', 'del', 'las', 'un', 'por', 'con ', 'no', 'una ', 'su', 'para', 'es', 'al', 'lo', 'como ', 'más ', 'o', 'pero', 'sus ', 'le', 'ha', 'me ', 'si', 'sin', 'sobre', 'este', 'ya', 'entre', 'cuando ', 'todo', 'esta', 'ser', 'son ', 'dos ', 'también ', 'fue', 'había', 'era', 'muy ', 'años ', 'hasta', 'desde ', 'está', 'mi', 'porque ', 'qué ', 'sólo', 'han ', 'yo', 'hay ', 'vez', 'puede ', 'todos', 'así', 'nos ', 'ni', 'parte', 'tiene', 'él', 'uno ', 'donde ', 'bien', 'mis', \n",
        "                 'que', 'pues', 'creen','dia','noche','esto','esta', 'dos','tres','cuatro','cinco','seis','siete','ocho','nueve','ante', 'encima','encimita','todxs']\n",
        "  tweet=text.lower()\n",
        "  for word in tweet.split():\n",
        "    if word not in skipped_words:\n",
        "      word=re.sub('((www\\.[^\\s]+)|(https?://[^\\s]+))','URL', word)\n",
        "      word=word.strip('\\¿?,.-_\")(:;¿¡!')\n",
        "      word=re.sub(r'@([^\\s]+)',r'\\1',word)\n",
        "      word=re.sub(r'#([^\\s]+)',r'\\1',word)\n",
        "      word=re.sub(r'á',r'a',word)\n",
        "      word=re.sub(r'é',r'e',word)\n",
        "      word=re.sub(r'í',r'i',word)\n",
        "      word=re.sub(r'ó',r'o',word)\n",
        "      word=re.sub(r'ú',r'u',word)\n",
        "      words.append(word)\n",
        "  return words\n",
        "\n"
      ],
      "execution_count": 0,
      "outputs": []
    },
    {
      "cell_type": "code",
      "metadata": {
        "id": "OCHPHZj3Vqd4",
        "colab_type": "code",
        "colab": {}
      },
      "source": [
        "def word_count(words):\n",
        "  contador=0\n",
        "  times=[]\n",
        "  dictWords={}\n",
        "  for i in range(len(palabras)):\n",
        "      aux=sorted(palabras)\n",
        "      times.append(aux.count(aux[i]))\n",
        "  for i in range(len(times)):\n",
        "      dictWords[aux[i]]=times[i]\n",
        "  return dictWords"
      ],
      "execution_count": 0,
      "outputs": []
    },
    {
      "cell_type": "code",
      "metadata": {
        "id": "MDS-E5I-yHmk",
        "colab_type": "code",
        "colab": {}
      },
      "source": [
        "def get_tweets_words(follower):\n",
        "  dic={}\n",
        "  tweets=api.user_timeline(follower, count=5000)\n",
        "  text=[]\n",
        "  for tweet in tweets:\n",
        "    aux=trim_tweet(tweet.text)\n",
        "    text.extend(aux)\n",
        "  dic[follower]=text\n",
        "  return dic"
      ],
      "execution_count": 0,
      "outputs": []
    },
    {
      "cell_type": "code",
      "metadata": {
        "id": "XBfOWPTqcnUw",
        "colab_type": "code",
        "outputId": "a60e19c8-b66f-4858-ac04-07ae78417977",
        "colab": {
          "base_uri": "https://localhost:8080/",
          "height": 68
        }
      },
      "source": [
        "print(len(following))\n",
        "if 'felipecalderon' in following:\n",
        "  print('True')\n",
        "\n",
        "print(\"Number of processors: \", mp.cpu_count())"
      ],
      "execution_count": 0,
      "outputs": [
        {
          "output_type": "stream",
          "text": [
            "7124\n",
            "True\n",
            "Number of processors:  2\n"
          ],
          "name": "stdout"
        }
      ]
    },
    {
      "cell_type": "code",
      "metadata": {
        "id": "aL9EQys0Vm6K",
        "colab_type": "code",
        "colab": {}
      },
      "source": [
        "import numba\n",
        "from numba import prange, njit\n",
        "import json\n",
        "#@njit(parallel=True)\n",
        "def get_words(followers):\n",
        "  json_words={}\n",
        "  for follower in followers:\n",
        "    try:\n",
        "      json_words['Usuarios']=get_tweets_words(follower)\n",
        "    except:\n",
        "      pass\n",
        "  f=open('tweets_json', 'w')\n",
        "  tweets_json=json.dumps(json_words)\n",
        "  return json_words\n",
        "\n",
        "p=mp.Pool()\n",
        "res=p.apply_async(get_words,args=following)"
      ],
      "execution_count": 0,
      "outputs": []
    },
    {
      "cell_type": "code",
      "metadata": {
        "id": "kN-Kr2-XJAIM",
        "colab_type": "code",
        "colab": {}
      },
      "source": [
        "print(res)"
      ],
      "execution_count": 0,
      "outputs": []
    }
  ]
}